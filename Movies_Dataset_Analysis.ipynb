{
 "cells": [
  {
   "cell_type": "markdown",
   "id": "95d7ddce",
   "metadata": {},
   "source": [
    "###### import packages"
   ]
  },
  {
   "cell_type": "code",
   "execution_count": 1,
   "id": "7875b6f9",
   "metadata": {},
   "outputs": [],
   "source": [
    "import pandas as pd\n",
    "import numpy as np\n",
    "import seaborn as sns\n",
    "import matplotlib.pyplot as plt"
   ]
  },
  {
   "cell_type": "markdown",
   "id": "a5a77747",
   "metadata": {},
   "source": [
    "###### reading the dataset"
   ]
  },
  {
   "cell_type": "code",
   "execution_count": 2,
   "id": "235b022c",
   "metadata": {},
   "outputs": [
    {
     "data": {
      "text/html": [
       "<div>\n",
       "<style scoped>\n",
       "    .dataframe tbody tr th:only-of-type {\n",
       "        vertical-align: middle;\n",
       "    }\n",
       "\n",
       "    .dataframe tbody tr th {\n",
       "        vertical-align: top;\n",
       "    }\n",
       "\n",
       "    .dataframe thead th {\n",
       "        text-align: right;\n",
       "    }\n",
       "</style>\n",
       "<table border=\"1\" class=\"dataframe\">\n",
       "  <thead>\n",
       "    <tr style=\"text-align: right;\">\n",
       "      <th></th>\n",
       "      <th>Release_Date</th>\n",
       "      <th>Title</th>\n",
       "      <th>Overview</th>\n",
       "      <th>Popularity</th>\n",
       "      <th>Vote_Count</th>\n",
       "      <th>Vote_Average</th>\n",
       "      <th>Original_Language</th>\n",
       "      <th>Genre</th>\n",
       "      <th>Poster_Url</th>\n",
       "    </tr>\n",
       "  </thead>\n",
       "  <tbody>\n",
       "    <tr>\n",
       "      <th>0</th>\n",
       "      <td>2021-12-15</td>\n",
       "      <td>Spider-Man: No Way Home</td>\n",
       "      <td>Peter Parker is unmasked and no longer able to...</td>\n",
       "      <td>5083.954</td>\n",
       "      <td>8940</td>\n",
       "      <td>8.3</td>\n",
       "      <td>en</td>\n",
       "      <td>Action, Adventure, Science Fiction</td>\n",
       "      <td>https://image.tmdb.org/t/p/original/1g0dhYtq4i...</td>\n",
       "    </tr>\n",
       "    <tr>\n",
       "      <th>1</th>\n",
       "      <td>2022-03-01</td>\n",
       "      <td>The Batman</td>\n",
       "      <td>In his second year of fighting crime, Batman u...</td>\n",
       "      <td>3827.658</td>\n",
       "      <td>1151</td>\n",
       "      <td>8.1</td>\n",
       "      <td>en</td>\n",
       "      <td>Crime, Mystery, Thriller</td>\n",
       "      <td>https://image.tmdb.org/t/p/original/74xTEgt7R3...</td>\n",
       "    </tr>\n",
       "    <tr>\n",
       "      <th>2</th>\n",
       "      <td>2022-02-25</td>\n",
       "      <td>No Exit</td>\n",
       "      <td>Stranded at a rest stop in the mountains durin...</td>\n",
       "      <td>2618.087</td>\n",
       "      <td>122</td>\n",
       "      <td>6.3</td>\n",
       "      <td>en</td>\n",
       "      <td>Thriller</td>\n",
       "      <td>https://image.tmdb.org/t/p/original/vDHsLnOWKl...</td>\n",
       "    </tr>\n",
       "    <tr>\n",
       "      <th>3</th>\n",
       "      <td>2021-11-24</td>\n",
       "      <td>Encanto</td>\n",
       "      <td>The tale of an extraordinary family, the Madri...</td>\n",
       "      <td>2402.201</td>\n",
       "      <td>5076</td>\n",
       "      <td>7.7</td>\n",
       "      <td>en</td>\n",
       "      <td>Animation, Comedy, Family, Fantasy</td>\n",
       "      <td>https://image.tmdb.org/t/p/original/4j0PNHkMr5...</td>\n",
       "    </tr>\n",
       "    <tr>\n",
       "      <th>4</th>\n",
       "      <td>2021-12-22</td>\n",
       "      <td>The King's Man</td>\n",
       "      <td>As a collection of history's worst tyrants and...</td>\n",
       "      <td>1895.511</td>\n",
       "      <td>1793</td>\n",
       "      <td>7.0</td>\n",
       "      <td>en</td>\n",
       "      <td>Action, Adventure, Thriller, War</td>\n",
       "      <td>https://image.tmdb.org/t/p/original/aq4Pwv5Xeu...</td>\n",
       "    </tr>\n",
       "  </tbody>\n",
       "</table>\n",
       "</div>"
      ],
      "text/plain": [
       "  Release_Date                    Title  \\\n",
       "0   2021-12-15  Spider-Man: No Way Home   \n",
       "1   2022-03-01               The Batman   \n",
       "2   2022-02-25                  No Exit   \n",
       "3   2021-11-24                  Encanto   \n",
       "4   2021-12-22           The King's Man   \n",
       "\n",
       "                                            Overview  Popularity  Vote_Count  \\\n",
       "0  Peter Parker is unmasked and no longer able to...    5083.954        8940   \n",
       "1  In his second year of fighting crime, Batman u...    3827.658        1151   \n",
       "2  Stranded at a rest stop in the mountains durin...    2618.087         122   \n",
       "3  The tale of an extraordinary family, the Madri...    2402.201        5076   \n",
       "4  As a collection of history's worst tyrants and...    1895.511        1793   \n",
       "\n",
       "   Vote_Average Original_Language                               Genre  \\\n",
       "0           8.3                en  Action, Adventure, Science Fiction   \n",
       "1           8.1                en            Crime, Mystery, Thriller   \n",
       "2           6.3                en                            Thriller   \n",
       "3           7.7                en  Animation, Comedy, Family, Fantasy   \n",
       "4           7.0                en    Action, Adventure, Thriller, War   \n",
       "\n",
       "                                          Poster_Url  \n",
       "0  https://image.tmdb.org/t/p/original/1g0dhYtq4i...  \n",
       "1  https://image.tmdb.org/t/p/original/74xTEgt7R3...  \n",
       "2  https://image.tmdb.org/t/p/original/vDHsLnOWKl...  \n",
       "3  https://image.tmdb.org/t/p/original/4j0PNHkMr5...  \n",
       "4  https://image.tmdb.org/t/p/original/aq4Pwv5Xeu...  "
      ]
     },
     "execution_count": 2,
     "metadata": {},
     "output_type": "execute_result"
    }
   ],
   "source": [
    "df=pd.read_csv(\"mymoviedb.csv\", lineterminator='\\n')\n",
    "df.head()"
   ]
  },
  {
   "cell_type": "code",
   "execution_count": 3,
   "id": "da899148",
   "metadata": {
    "scrolled": true
   },
   "outputs": [
    {
     "name": "stdout",
     "output_type": "stream",
     "text": [
      "<class 'pandas.core.frame.DataFrame'>\n",
      "RangeIndex: 9827 entries, 0 to 9826\n",
      "Data columns (total 9 columns):\n",
      " #   Column             Non-Null Count  Dtype  \n",
      "---  ------             --------------  -----  \n",
      " 0   Release_Date       9827 non-null   object \n",
      " 1   Title              9827 non-null   object \n",
      " 2   Overview           9827 non-null   object \n",
      " 3   Popularity         9827 non-null   float64\n",
      " 4   Vote_Count         9827 non-null   int64  \n",
      " 5   Vote_Average       9827 non-null   float64\n",
      " 6   Original_Language  9827 non-null   object \n",
      " 7   Genre              9827 non-null   object \n",
      " 8   Poster_Url         9827 non-null   object \n",
      "dtypes: float64(2), int64(1), object(6)\n",
      "memory usage: 691.1+ KB\n"
     ]
    }
   ],
   "source": [
    "df.info()"
   ]
  },
  {
   "cell_type": "code",
   "execution_count": 4,
   "id": "6786033b",
   "metadata": {},
   "outputs": [
    {
     "data": {
      "text/plain": [
       "Release_Date         0\n",
       "Title                0\n",
       "Overview             0\n",
       "Popularity           0\n",
       "Vote_Count           0\n",
       "Vote_Average         0\n",
       "Original_Language    0\n",
       "Genre                0\n",
       "Poster_Url           0\n",
       "dtype: int64"
      ]
     },
     "execution_count": 4,
     "metadata": {},
     "output_type": "execute_result"
    }
   ],
   "source": [
    "# no standard missing values\n",
    "df.isna().sum()"
   ]
  },
  {
   "cell_type": "markdown",
   "id": "3aabaceb",
   "metadata": {},
   "source": [
    "###### detecting duplicates"
   ]
  },
  {
   "cell_type": "code",
   "execution_count": 5,
   "id": "15db9881",
   "metadata": {},
   "outputs": [
    {
     "data": {
      "text/plain": [
       "0"
      ]
     },
     "execution_count": 5,
     "metadata": {},
     "output_type": "execute_result"
    }
   ],
   "source": [
    "# no duplicated values\n",
    "df.duplicated().sum()"
   ]
  },
  {
   "cell_type": "code",
   "execution_count": 6,
   "id": "824e655b",
   "metadata": {},
   "outputs": [
    {
     "data": {
      "text/html": [
       "<div>\n",
       "<style scoped>\n",
       "    .dataframe tbody tr th:only-of-type {\n",
       "        vertical-align: middle;\n",
       "    }\n",
       "\n",
       "    .dataframe tbody tr th {\n",
       "        vertical-align: top;\n",
       "    }\n",
       "\n",
       "    .dataframe thead th {\n",
       "        text-align: right;\n",
       "    }\n",
       "</style>\n",
       "<table border=\"1\" class=\"dataframe\">\n",
       "  <thead>\n",
       "    <tr style=\"text-align: right;\">\n",
       "      <th></th>\n",
       "      <th>Release_Date</th>\n",
       "      <th>Title</th>\n",
       "      <th>Overview</th>\n",
       "      <th>Popularity</th>\n",
       "      <th>Vote_Count</th>\n",
       "      <th>Vote_Average</th>\n",
       "      <th>Original_Language</th>\n",
       "      <th>Genre</th>\n",
       "      <th>Poster_Url</th>\n",
       "    </tr>\n",
       "  </thead>\n",
       "  <tbody>\n",
       "    <tr>\n",
       "      <th>3270</th>\n",
       "      <td>2015-05-22</td>\n",
       "      <td>365 Days</td>\n",
       "      <td>This film tracks a hasty marriage through its ...</td>\n",
       "      <td>28.341</td>\n",
       "      <td>12</td>\n",
       "      <td>4.8</td>\n",
       "      <td>te</td>\n",
       "      <td>Romance</td>\n",
       "      <td>https://image.tmdb.org/t/p/original/AoFyZGDgfr...</td>\n",
       "    </tr>\n",
       "    <tr>\n",
       "      <th>1424</th>\n",
       "      <td>2020-02-07</td>\n",
       "      <td>365 Days</td>\n",
       "      <td>A woman falls victim to a dominant mafia boss,...</td>\n",
       "      <td>52.418</td>\n",
       "      <td>6540</td>\n",
       "      <td>7.0</td>\n",
       "      <td>pl</td>\n",
       "      <td>Drama, Romance</td>\n",
       "      <td>https://image.tmdb.org/t/p/original/6KwrHucIE3...</td>\n",
       "    </tr>\n",
       "    <tr>\n",
       "      <th>5993</th>\n",
       "      <td>1984-10-09</td>\n",
       "      <td>A Christmas Carol</td>\n",
       "      <td>A bitter old miser who makes excuses for his u...</td>\n",
       "      <td>18.546</td>\n",
       "      <td>241</td>\n",
       "      <td>7.3</td>\n",
       "      <td>en</td>\n",
       "      <td>Drama, Fantasy, TV Movie, Family</td>\n",
       "      <td>https://image.tmdb.org/t/p/original/kGmpIkjVRW...</td>\n",
       "    </tr>\n",
       "    <tr>\n",
       "      <th>2052</th>\n",
       "      <td>2009-11-04</td>\n",
       "      <td>A Christmas Carol</td>\n",
       "      <td>Miser Ebenezer Scrooge is awakened on Christma...</td>\n",
       "      <td>39.916</td>\n",
       "      <td>3732</td>\n",
       "      <td>6.9</td>\n",
       "      <td>en</td>\n",
       "      <td>Animation, Family, Drama, Fantasy</td>\n",
       "      <td>https://image.tmdb.org/t/p/original/goHDZUnqZJ...</td>\n",
       "    </tr>\n",
       "    <tr>\n",
       "      <th>2169</th>\n",
       "      <td>2010-04-30</td>\n",
       "      <td>A Nightmare on Elm Street</td>\n",
       "      <td>The film that brings back horror icon Freddy K...</td>\n",
       "      <td>38.399</td>\n",
       "      <td>2187</td>\n",
       "      <td>5.5</td>\n",
       "      <td>en</td>\n",
       "      <td>Horror, Mystery, Thriller</td>\n",
       "      <td>https://image.tmdb.org/t/p/original/4W2GvVM89X...</td>\n",
       "    </tr>\n",
       "  </tbody>\n",
       "</table>\n",
       "</div>"
      ],
      "text/plain": [
       "     Release_Date                      Title  \\\n",
       "3270   2015-05-22                   365 Days   \n",
       "1424   2020-02-07                   365 Days   \n",
       "5993   1984-10-09          A Christmas Carol   \n",
       "2052   2009-11-04          A Christmas Carol   \n",
       "2169   2010-04-30  A Nightmare on Elm Street   \n",
       "\n",
       "                                               Overview  Popularity  \\\n",
       "3270  This film tracks a hasty marriage through its ...      28.341   \n",
       "1424  A woman falls victim to a dominant mafia boss,...      52.418   \n",
       "5993  A bitter old miser who makes excuses for his u...      18.546   \n",
       "2052  Miser Ebenezer Scrooge is awakened on Christma...      39.916   \n",
       "2169  The film that brings back horror icon Freddy K...      38.399   \n",
       "\n",
       "      Vote_Count  Vote_Average Original_Language  \\\n",
       "3270          12           4.8                te   \n",
       "1424        6540           7.0                pl   \n",
       "5993         241           7.3                en   \n",
       "2052        3732           6.9                en   \n",
       "2169        2187           5.5                en   \n",
       "\n",
       "                                  Genre  \\\n",
       "3270                            Romance   \n",
       "1424                     Drama, Romance   \n",
       "5993   Drama, Fantasy, TV Movie, Family   \n",
       "2052  Animation, Family, Drama, Fantasy   \n",
       "2169          Horror, Mystery, Thriller   \n",
       "\n",
       "                                             Poster_Url  \n",
       "3270  https://image.tmdb.org/t/p/original/AoFyZGDgfr...  \n",
       "1424  https://image.tmdb.org/t/p/original/6KwrHucIE3...  \n",
       "5993  https://image.tmdb.org/t/p/original/kGmpIkjVRW...  \n",
       "2052  https://image.tmdb.org/t/p/original/goHDZUnqZJ...  \n",
       "2169  https://image.tmdb.org/t/p/original/4W2GvVM89X...  "
      ]
     },
     "execution_count": 6,
     "metadata": {},
     "output_type": "execute_result"
    }
   ],
   "source": [
    "# the data has different movies with the same name\n",
    "df[df.duplicated(\"Title\", keep=False)].sort_values(\"Title\").head()"
   ]
  },
  {
   "cell_type": "code",
   "execution_count": 7,
   "id": "cec41db6",
   "metadata": {},
   "outputs": [
    {
     "data": {
      "text/html": [
       "<div>\n",
       "<style scoped>\n",
       "    .dataframe tbody tr th:only-of-type {\n",
       "        vertical-align: middle;\n",
       "    }\n",
       "\n",
       "    .dataframe tbody tr th {\n",
       "        vertical-align: top;\n",
       "    }\n",
       "\n",
       "    .dataframe thead th {\n",
       "        text-align: right;\n",
       "    }\n",
       "</style>\n",
       "<table border=\"1\" class=\"dataframe\">\n",
       "  <thead>\n",
       "    <tr style=\"text-align: right;\">\n",
       "      <th></th>\n",
       "      <th>Release_Date</th>\n",
       "      <th>Title</th>\n",
       "      <th>Overview</th>\n",
       "      <th>Popularity</th>\n",
       "      <th>Vote_Count</th>\n",
       "      <th>Vote_Average</th>\n",
       "      <th>Original_Language</th>\n",
       "      <th>Genre</th>\n",
       "      <th>Poster_Url</th>\n",
       "    </tr>\n",
       "  </thead>\n",
       "  <tbody>\n",
       "    <tr>\n",
       "      <th>1736</th>\n",
       "      <td>2015-04-25</td>\n",
       "      <td>Parasyte: Part 2</td>\n",
       "      <td>Alien pods come to Earth and, naturally, start...</td>\n",
       "      <td>45.155</td>\n",
       "      <td>121</td>\n",
       "      <td>7.0</td>\n",
       "      <td>ja</td>\n",
       "      <td>Science Fiction, Horror</td>\n",
       "      <td>https://image.tmdb.org/t/p/original/qO8zQ9dSAD...</td>\n",
       "    </tr>\n",
       "    <tr>\n",
       "      <th>1774</th>\n",
       "      <td>2014-11-29</td>\n",
       "      <td>Parasyte: Part 1</td>\n",
       "      <td>Alien pods come to Earth and, naturally, start...</td>\n",
       "      <td>44.344</td>\n",
       "      <td>176</td>\n",
       "      <td>7.1</td>\n",
       "      <td>ja</td>\n",
       "      <td>Science Fiction, Horror</td>\n",
       "      <td>https://image.tmdb.org/t/p/original/lNzCFguC8w...</td>\n",
       "    </tr>\n",
       "    <tr>\n",
       "      <th>2558</th>\n",
       "      <td>1993-09-23</td>\n",
       "      <td>Dragon Ball Z Side Story: Plan to Eradicate th...</td>\n",
       "      <td>Dr. Raichi is one of the only survivors of the...</td>\n",
       "      <td>34.174</td>\n",
       "      <td>29</td>\n",
       "      <td>6.3</td>\n",
       "      <td>ja</td>\n",
       "      <td>Action, Adventure, Animation</td>\n",
       "      <td>https://image.tmdb.org/t/p/original/v8Fj0USMWp...</td>\n",
       "    </tr>\n",
       "    <tr>\n",
       "      <th>2567</th>\n",
       "      <td>2010-11-11</td>\n",
       "      <td>Dragon Ball: Plan to Eradicate the Super Saiyans</td>\n",
       "      <td>Dr. Raichi is one of the only survivors of the...</td>\n",
       "      <td>34.103</td>\n",
       "      <td>234</td>\n",
       "      <td>7.1</td>\n",
       "      <td>ja</td>\n",
       "      <td>Action, Animation, Adventure</td>\n",
       "      <td>https://image.tmdb.org/t/p/original/vkZJ7MIa9X...</td>\n",
       "    </tr>\n",
       "  </tbody>\n",
       "</table>\n",
       "</div>"
      ],
      "text/plain": [
       "     Release_Date                                              Title  \\\n",
       "1736   2015-04-25                                   Parasyte: Part 2   \n",
       "1774   2014-11-29                                   Parasyte: Part 1   \n",
       "2558   1993-09-23  Dragon Ball Z Side Story: Plan to Eradicate th...   \n",
       "2567   2010-11-11   Dragon Ball: Plan to Eradicate the Super Saiyans   \n",
       "\n",
       "                                               Overview  Popularity  \\\n",
       "1736  Alien pods come to Earth and, naturally, start...      45.155   \n",
       "1774  Alien pods come to Earth and, naturally, start...      44.344   \n",
       "2558  Dr. Raichi is one of the only survivors of the...      34.174   \n",
       "2567  Dr. Raichi is one of the only survivors of the...      34.103   \n",
       "\n",
       "      Vote_Count  Vote_Average Original_Language  \\\n",
       "1736         121           7.0                ja   \n",
       "1774         176           7.1                ja   \n",
       "2558          29           6.3                ja   \n",
       "2567         234           7.1                ja   \n",
       "\n",
       "                             Genre  \\\n",
       "1736       Science Fiction, Horror   \n",
       "1774       Science Fiction, Horror   \n",
       "2558  Action, Adventure, Animation   \n",
       "2567  Action, Animation, Adventure   \n",
       "\n",
       "                                             Poster_Url  \n",
       "1736  https://image.tmdb.org/t/p/original/qO8zQ9dSAD...  \n",
       "1774  https://image.tmdb.org/t/p/original/lNzCFguC8w...  \n",
       "2558  https://image.tmdb.org/t/p/original/v8Fj0USMWp...  \n",
       "2567  https://image.tmdb.org/t/p/original/vkZJ7MIa9X...  "
      ]
     },
     "execution_count": 7,
     "metadata": {},
     "output_type": "execute_result"
    }
   ],
   "source": [
    "# the data has different seasons of the same movie\n",
    "df[df.duplicated(\"Overview\",keep=False)].head(4)"
   ]
  },
  {
   "cell_type": "markdown",
   "id": "570154aa",
   "metadata": {},
   "source": [
    "###### the data has no duplicates"
   ]
  },
  {
   "cell_type": "markdown",
   "id": "386f3ee1",
   "metadata": {},
   "source": [
    "###### summary:\n",
    "* the above data has 9827 rows and 9 columns\n",
    "* data has 9 columns 6 of them are object, 2 floats and 1 integer\n",
    "* data has no duplicates or missing values\n",
    "* all the columns have the right data type except for \"Release_Date\" column which needs to be changed to datetime\n",
    "* the \"Poster_Url\" column is unuseful"
   ]
  },
  {
   "cell_type": "code",
   "execution_count": 8,
   "id": "1a9ec53d",
   "metadata": {},
   "outputs": [],
   "source": [
    "# dropping \"Poster_Url\" column\n",
    "df.drop(columns=\"Poster_Url\", inplace=True)"
   ]
  },
  {
   "cell_type": "markdown",
   "id": "66c81ff9",
   "metadata": {},
   "source": [
    "###### finding the most common genre"
   ]
  },
  {
   "cell_type": "code",
   "execution_count": 9,
   "id": "9febb087",
   "metadata": {},
   "outputs": [
    {
     "data": {
      "text/html": [
       "<div>\n",
       "<style scoped>\n",
       "    .dataframe tbody tr th:only-of-type {\n",
       "        vertical-align: middle;\n",
       "    }\n",
       "\n",
       "    .dataframe tbody tr th {\n",
       "        vertical-align: top;\n",
       "    }\n",
       "\n",
       "    .dataframe thead th {\n",
       "        text-align: right;\n",
       "    }\n",
       "</style>\n",
       "<table border=\"1\" class=\"dataframe\">\n",
       "  <thead>\n",
       "    <tr style=\"text-align: right;\">\n",
       "      <th></th>\n",
       "      <th>0</th>\n",
       "      <th>1</th>\n",
       "      <th>2</th>\n",
       "      <th>3</th>\n",
       "      <th>4</th>\n",
       "      <th>5</th>\n",
       "      <th>6</th>\n",
       "      <th>7</th>\n",
       "    </tr>\n",
       "  </thead>\n",
       "  <tbody>\n",
       "    <tr>\n",
       "      <th>0</th>\n",
       "      <td>Action</td>\n",
       "      <td>Adventure</td>\n",
       "      <td>Science Fiction</td>\n",
       "      <td>None</td>\n",
       "      <td>None</td>\n",
       "      <td>None</td>\n",
       "      <td>None</td>\n",
       "      <td>None</td>\n",
       "    </tr>\n",
       "    <tr>\n",
       "      <th>1</th>\n",
       "      <td>Crime</td>\n",
       "      <td>Mystery</td>\n",
       "      <td>Thriller</td>\n",
       "      <td>None</td>\n",
       "      <td>None</td>\n",
       "      <td>None</td>\n",
       "      <td>None</td>\n",
       "      <td>None</td>\n",
       "    </tr>\n",
       "    <tr>\n",
       "      <th>2</th>\n",
       "      <td>Thriller</td>\n",
       "      <td>None</td>\n",
       "      <td>None</td>\n",
       "      <td>None</td>\n",
       "      <td>None</td>\n",
       "      <td>None</td>\n",
       "      <td>None</td>\n",
       "      <td>None</td>\n",
       "    </tr>\n",
       "    <tr>\n",
       "      <th>3</th>\n",
       "      <td>Animation</td>\n",
       "      <td>Comedy</td>\n",
       "      <td>Family</td>\n",
       "      <td>Fantasy</td>\n",
       "      <td>None</td>\n",
       "      <td>None</td>\n",
       "      <td>None</td>\n",
       "      <td>None</td>\n",
       "    </tr>\n",
       "    <tr>\n",
       "      <th>4</th>\n",
       "      <td>Action</td>\n",
       "      <td>Adventure</td>\n",
       "      <td>Thriller</td>\n",
       "      <td>War</td>\n",
       "      <td>None</td>\n",
       "      <td>None</td>\n",
       "      <td>None</td>\n",
       "      <td>None</td>\n",
       "    </tr>\n",
       "  </tbody>\n",
       "</table>\n",
       "</div>"
      ],
      "text/plain": [
       "           0          1                2        3     4     5     6     7\n",
       "0     Action  Adventure  Science Fiction     None  None  None  None  None\n",
       "1      Crime    Mystery         Thriller     None  None  None  None  None\n",
       "2   Thriller       None             None     None  None  None  None  None\n",
       "3  Animation     Comedy           Family  Fantasy  None  None  None  None\n",
       "4     Action  Adventure         Thriller      War  None  None  None  None"
      ]
     },
     "execution_count": 9,
     "metadata": {},
     "output_type": "execute_result"
    }
   ],
   "source": [
    "# splitting the \"Genre\" column\n",
    "splited= df[\"Genre\"].str.split(\", \", n = -1, expand = True)\n",
    "splited.head()"
   ]
  },
  {
   "cell_type": "code",
   "execution_count": 10,
   "id": "c2ce57fa",
   "metadata": {},
   "outputs": [
    {
     "data": {
      "text/html": [
       "<div>\n",
       "<style scoped>\n",
       "    .dataframe tbody tr th:only-of-type {\n",
       "        vertical-align: middle;\n",
       "    }\n",
       "\n",
       "    .dataframe tbody tr th {\n",
       "        vertical-align: top;\n",
       "    }\n",
       "\n",
       "    .dataframe thead th {\n",
       "        text-align: right;\n",
       "    }\n",
       "</style>\n",
       "<table border=\"1\" class=\"dataframe\">\n",
       "  <thead>\n",
       "    <tr style=\"text-align: right;\">\n",
       "      <th></th>\n",
       "      <th>0</th>\n",
       "      <th>1</th>\n",
       "      <th>2</th>\n",
       "      <th>3</th>\n",
       "      <th>4</th>\n",
       "      <th>5</th>\n",
       "      <th>6</th>\n",
       "      <th>7</th>\n",
       "    </tr>\n",
       "  </thead>\n",
       "  <tbody>\n",
       "    <tr>\n",
       "      <th>Action</th>\n",
       "      <td>1570</td>\n",
       "      <td>726</td>\n",
       "      <td>290</td>\n",
       "      <td>74</td>\n",
       "      <td>19.0</td>\n",
       "      <td>7.0</td>\n",
       "      <td>NaN</td>\n",
       "      <td>NaN</td>\n",
       "    </tr>\n",
       "    <tr>\n",
       "      <th>Adventure</th>\n",
       "      <td>586</td>\n",
       "      <td>691</td>\n",
       "      <td>383</td>\n",
       "      <td>147</td>\n",
       "      <td>40.0</td>\n",
       "      <td>5.0</td>\n",
       "      <td>1.0</td>\n",
       "      <td>NaN</td>\n",
       "    </tr>\n",
       "    <tr>\n",
       "      <th>Animation</th>\n",
       "      <td>805</td>\n",
       "      <td>423</td>\n",
       "      <td>165</td>\n",
       "      <td>33</td>\n",
       "      <td>9.0</td>\n",
       "      <td>3.0</td>\n",
       "      <td>1.0</td>\n",
       "      <td>NaN</td>\n",
       "    </tr>\n",
       "    <tr>\n",
       "      <th>Comedy</th>\n",
       "      <td>1484</td>\n",
       "      <td>868</td>\n",
       "      <td>451</td>\n",
       "      <td>183</td>\n",
       "      <td>43.0</td>\n",
       "      <td>1.0</td>\n",
       "      <td>1.0</td>\n",
       "      <td>NaN</td>\n",
       "    </tr>\n",
       "    <tr>\n",
       "      <th>Crime</th>\n",
       "      <td>391</td>\n",
       "      <td>463</td>\n",
       "      <td>283</td>\n",
       "      <td>93</td>\n",
       "      <td>12.0</td>\n",
       "      <td>NaN</td>\n",
       "      <td>NaN</td>\n",
       "      <td>NaN</td>\n",
       "    </tr>\n",
       "  </tbody>\n",
       "</table>\n",
       "</div>"
      ],
      "text/plain": [
       "              0    1    2    3     4    5    6   7\n",
       "Action     1570  726  290   74  19.0  7.0  NaN NaN\n",
       "Adventure   586  691  383  147  40.0  5.0  1.0 NaN\n",
       "Animation   805  423  165   33   9.0  3.0  1.0 NaN\n",
       "Comedy     1484  868  451  183  43.0  1.0  1.0 NaN\n",
       "Crime       391  463  283   93  12.0  NaN  NaN NaN"
      ]
     },
     "execution_count": 10,
     "metadata": {},
     "output_type": "execute_result"
    }
   ],
   "source": [
    "classified=splited[splited.columns].apply(pd.Series.value_counts)\n",
    "classified.head()"
   ]
  },
  {
   "cell_type": "code",
   "execution_count": 11,
   "id": "7bd394fd",
   "metadata": {},
   "outputs": [
    {
     "data": {
      "text/plain": [
       "Drama              3744.0\n",
       "Comedy             3031.0\n",
       "Action             2686.0\n",
       "Thriller           2488.0\n",
       "Adventure          1853.0\n",
       "Romance            1476.0\n",
       "Horror             1470.0\n",
       "Animation          1439.0\n",
       "Family             1414.0\n",
       "Fantasy            1308.0\n",
       "Science Fiction    1273.0\n",
       "Crime              1242.0\n",
       "Mystery             773.0\n",
       "History             427.0\n",
       "War                 308.0\n",
       "Music               295.0\n",
       "Documentary         215.0\n",
       "TV Movie            214.0\n",
       "Western             137.0\n",
       "dtype: float64"
      ]
     },
     "execution_count": 11,
     "metadata": {},
     "output_type": "execute_result"
    }
   ],
   "source": [
    "# getting the number of movies in each type\n",
    "classified.sum(axis=1, skipna=True).sort_values(ascending=False)"
   ]
  },
  {
   "cell_type": "markdown",
   "id": "e0f20c22",
   "metadata": {},
   "source": [
    "###### the most common genre is Drama"
   ]
  },
  {
   "cell_type": "markdown",
   "id": "59f6c24e",
   "metadata": {},
   "source": [
    "###### finding the highly rated movies"
   ]
  },
  {
   "cell_type": "code",
   "execution_count": 12,
   "id": "f558389c",
   "metadata": {},
   "outputs": [],
   "source": [
    "# highly rated indexes\n",
    "high_rates= df[\"Vote_Average\"]>=7"
   ]
  },
  {
   "cell_type": "code",
   "execution_count": 13,
   "id": "65f2a541",
   "metadata": {},
   "outputs": [
    {
     "data": {
      "text/html": [
       "<div>\n",
       "<style scoped>\n",
       "    .dataframe tbody tr th:only-of-type {\n",
       "        vertical-align: middle;\n",
       "    }\n",
       "\n",
       "    .dataframe tbody tr th {\n",
       "        vertical-align: top;\n",
       "    }\n",
       "\n",
       "    .dataframe thead th {\n",
       "        text-align: right;\n",
       "    }\n",
       "</style>\n",
       "<table border=\"1\" class=\"dataframe\">\n",
       "  <thead>\n",
       "    <tr style=\"text-align: right;\">\n",
       "      <th></th>\n",
       "      <th>Release_Date</th>\n",
       "      <th>Title</th>\n",
       "      <th>Overview</th>\n",
       "      <th>Popularity</th>\n",
       "      <th>Vote_Count</th>\n",
       "      <th>Vote_Average</th>\n",
       "      <th>Original_Language</th>\n",
       "      <th>Genre</th>\n",
       "    </tr>\n",
       "  </thead>\n",
       "  <tbody>\n",
       "    <tr>\n",
       "      <th>0</th>\n",
       "      <td>2021-12-15</td>\n",
       "      <td>Spider-Man: No Way Home</td>\n",
       "      <td>Peter Parker is unmasked and no longer able to...</td>\n",
       "      <td>5083.954</td>\n",
       "      <td>8940</td>\n",
       "      <td>8.3</td>\n",
       "      <td>en</td>\n",
       "      <td>Action, Adventure, Science Fiction</td>\n",
       "    </tr>\n",
       "    <tr>\n",
       "      <th>1</th>\n",
       "      <td>2022-03-01</td>\n",
       "      <td>The Batman</td>\n",
       "      <td>In his second year of fighting crime, Batman u...</td>\n",
       "      <td>3827.658</td>\n",
       "      <td>1151</td>\n",
       "      <td>8.1</td>\n",
       "      <td>en</td>\n",
       "      <td>Crime, Mystery, Thriller</td>\n",
       "    </tr>\n",
       "    <tr>\n",
       "      <th>3</th>\n",
       "      <td>2021-11-24</td>\n",
       "      <td>Encanto</td>\n",
       "      <td>The tale of an extraordinary family, the Madri...</td>\n",
       "      <td>2402.201</td>\n",
       "      <td>5076</td>\n",
       "      <td>7.7</td>\n",
       "      <td>en</td>\n",
       "      <td>Animation, Comedy, Family, Fantasy</td>\n",
       "    </tr>\n",
       "    <tr>\n",
       "      <th>4</th>\n",
       "      <td>2021-12-22</td>\n",
       "      <td>The King's Man</td>\n",
       "      <td>As a collection of history's worst tyrants and...</td>\n",
       "      <td>1895.511</td>\n",
       "      <td>1793</td>\n",
       "      <td>7.0</td>\n",
       "      <td>en</td>\n",
       "      <td>Action, Adventure, Thriller, War</td>\n",
       "    </tr>\n",
       "    <tr>\n",
       "      <th>9</th>\n",
       "      <td>2021-11-03</td>\n",
       "      <td>Eternals</td>\n",
       "      <td>The Eternals are a team of ancient aliens who ...</td>\n",
       "      <td>1537.406</td>\n",
       "      <td>4726</td>\n",
       "      <td>7.2</td>\n",
       "      <td>en</td>\n",
       "      <td>Science Fiction</td>\n",
       "    </tr>\n",
       "  </tbody>\n",
       "</table>\n",
       "</div>"
      ],
      "text/plain": [
       "  Release_Date                    Title  \\\n",
       "0   2021-12-15  Spider-Man: No Way Home   \n",
       "1   2022-03-01               The Batman   \n",
       "3   2021-11-24                  Encanto   \n",
       "4   2021-12-22           The King's Man   \n",
       "9   2021-11-03                 Eternals   \n",
       "\n",
       "                                            Overview  Popularity  Vote_Count  \\\n",
       "0  Peter Parker is unmasked and no longer able to...    5083.954        8940   \n",
       "1  In his second year of fighting crime, Batman u...    3827.658        1151   \n",
       "3  The tale of an extraordinary family, the Madri...    2402.201        5076   \n",
       "4  As a collection of history's worst tyrants and...    1895.511        1793   \n",
       "9  The Eternals are a team of ancient aliens who ...    1537.406        4726   \n",
       "\n",
       "   Vote_Average Original_Language                               Genre  \n",
       "0           8.3                en  Action, Adventure, Science Fiction  \n",
       "1           8.1                en            Crime, Mystery, Thriller  \n",
       "3           7.7                en  Animation, Comedy, Family, Fantasy  \n",
       "4           7.0                en    Action, Adventure, Thriller, War  \n",
       "9           7.2                en                     Science Fiction  "
      ]
     },
     "execution_count": 13,
     "metadata": {},
     "output_type": "execute_result"
    }
   ],
   "source": [
    "highly_rated= df[high_rates]\n",
    "highly_rated.head()"
   ]
  },
  {
   "cell_type": "code",
   "execution_count": 14,
   "id": "018b376a",
   "metadata": {},
   "outputs": [
    {
     "data": {
      "text/plain": [
       "Drama              1670.0\n",
       "Comedy              835.0\n",
       "Action              723.0\n",
       "Animation           709.0\n",
       "Adventure           607.0\n",
       "Thriller            548.0\n",
       "Romance             544.0\n",
       "Family              498.0\n",
       "Fantasy             472.0\n",
       "Crime               430.0\n",
       "Science Fiction     344.0\n",
       "Mystery             241.0\n",
       "History             236.0\n",
       "Horror              192.0\n",
       "War                 161.0\n",
       "Music               151.0\n",
       "Documentary         129.0\n",
       "TV Movie             74.0\n",
       "Western              65.0\n",
       "dtype: float64"
      ]
     },
     "execution_count": 14,
     "metadata": {},
     "output_type": "execute_result"
    }
   ],
   "source": [
    "# types of highly rated movies\n",
    "splited[high_rates].apply(pd.Series.value_counts).sum(axis=1, skipna=True).sort_values(ascending=False)"
   ]
  },
  {
   "cell_type": "markdown",
   "id": "ae48ca1f",
   "metadata": {},
   "source": [
    "###### Most of the highly rated movies are also dramas"
   ]
  },
  {
   "cell_type": "markdown",
   "id": "419cc235",
   "metadata": {},
   "source": [
    "###### finding the most viewed movie"
   ]
  },
  {
   "cell_type": "code",
   "execution_count": 15,
   "id": "8b66afbe",
   "metadata": {},
   "outputs": [
    {
     "data": {
      "text/plain": [
       "0"
      ]
     },
     "execution_count": 15,
     "metadata": {},
     "output_type": "execute_result"
    }
   ],
   "source": [
    "# getting its index\n",
    "movie_index= df['Popularity'].idxmax()\n",
    "movie_index"
   ]
  },
  {
   "cell_type": "code",
   "execution_count": 16,
   "id": "b8a0e7d4",
   "metadata": {},
   "outputs": [
    {
     "data": {
      "text/html": [
       "<div>\n",
       "<style scoped>\n",
       "    .dataframe tbody tr th:only-of-type {\n",
       "        vertical-align: middle;\n",
       "    }\n",
       "\n",
       "    .dataframe tbody tr th {\n",
       "        vertical-align: top;\n",
       "    }\n",
       "\n",
       "    .dataframe thead th {\n",
       "        text-align: right;\n",
       "    }\n",
       "</style>\n",
       "<table border=\"1\" class=\"dataframe\">\n",
       "  <thead>\n",
       "    <tr style=\"text-align: right;\">\n",
       "      <th></th>\n",
       "      <th>Release_Date</th>\n",
       "      <th>Title</th>\n",
       "      <th>Overview</th>\n",
       "      <th>Popularity</th>\n",
       "      <th>Vote_Count</th>\n",
       "      <th>Vote_Average</th>\n",
       "      <th>Original_Language</th>\n",
       "      <th>Genre</th>\n",
       "    </tr>\n",
       "  </thead>\n",
       "  <tbody>\n",
       "    <tr>\n",
       "      <th>0</th>\n",
       "      <td>2021-12-15</td>\n",
       "      <td>Spider-Man: No Way Home</td>\n",
       "      <td>Peter Parker is unmasked and no longer able to...</td>\n",
       "      <td>5083.954</td>\n",
       "      <td>8940</td>\n",
       "      <td>8.3</td>\n",
       "      <td>en</td>\n",
       "      <td>Action, Adventure, Science Fiction</td>\n",
       "    </tr>\n",
       "  </tbody>\n",
       "</table>\n",
       "</div>"
      ],
      "text/plain": [
       "  Release_Date                    Title  \\\n",
       "0   2021-12-15  Spider-Man: No Way Home   \n",
       "\n",
       "                                            Overview  Popularity  Vote_Count  \\\n",
       "0  Peter Parker is unmasked and no longer able to...    5083.954        8940   \n",
       "\n",
       "   Vote_Average Original_Language                               Genre  \n",
       "0           8.3                en  Action, Adventure, Science Fiction  "
      ]
     },
     "execution_count": 16,
     "metadata": {},
     "output_type": "execute_result"
    }
   ],
   "source": [
    "df[0:1]"
   ]
  },
  {
   "cell_type": "markdown",
   "id": "521228d9",
   "metadata": {},
   "source": [
    "###### the most viewed movie is \"Spider-Man: No Way Home\" which is an Action, Adventure and Science Fiction movie"
   ]
  },
  {
   "cell_type": "markdown",
   "id": "8a426d79",
   "metadata": {},
   "source": [
    "###### finding when most films were produced"
   ]
  },
  {
   "cell_type": "code",
   "execution_count": 17,
   "id": "f3301b01",
   "metadata": {},
   "outputs": [],
   "source": [
    "# changing the 'Release_Date' data type to datetime\n",
    "df['Release_Date']= pd.to_datetime(df['Release_Date'])"
   ]
  },
  {
   "cell_type": "code",
   "execution_count": 18,
   "id": "1a68518d",
   "metadata": {
    "scrolled": true
   },
   "outputs": [],
   "source": [
    "# getting the years of releasing\n",
    "years= pd.DatetimeIndex(df['Release_Date']).year"
   ]
  },
  {
   "cell_type": "code",
   "execution_count": 19,
   "id": "f9e89702",
   "metadata": {},
   "outputs": [
    {
     "data": {
      "text/plain": [
       "2021    714\n",
       "2018    530\n",
       "2017    510\n",
       "2019    500\n",
       "2016    470\n",
       "2020    453\n",
       "2015    390\n",
       "2014    371\n",
       "2013    348\n",
       "2011    316\n",
       "Name: Release_Date, dtype: int64"
      ]
     },
     "execution_count": 19,
     "metadata": {},
     "output_type": "execute_result"
    }
   ],
   "source": [
    "years.value_counts().head(10)"
   ]
  },
  {
   "cell_type": "code",
   "execution_count": 47,
   "id": "5fd57b57",
   "metadata": {},
   "outputs": [
    {
     "data": {
      "image/png": "[encoded data removed]",
      "text/plain": [
       "<Figure size 432x288 with 1 Axes>"
      ]
     },
     "metadata": {
      "needs_background": "light"
     },
     "output_type": "display_data"
    }
   ],
   "source": [
    "# 1980 marked the beginning of a revolution in the film industry\n",
    "sns.histplot(x=years, data=df, color=\"tab:blue\", bins=25)\n",
    "plt.show()"
   ]
  },
  {
   "cell_type": "markdown",
   "id": "4c034f45",
   "metadata": {},
   "source": [
    "###### 2021 is the year in which the most films were produced"
   ]
  },
  {
   "cell_type": "code",
   "execution_count": 23,
   "id": "5d4b4aec",
   "metadata": {},
   "outputs": [
    {
     "data": {
      "text/plain": [
       "10    1024\n",
       "9      993\n",
       "12     927\n",
       "8      885\n",
       "3      868\n",
       "7      802\n",
       "11     789\n",
       "2      788\n",
       "6      768\n",
       "4      669\n",
       "Name: Release_Date, dtype: int64"
      ]
     },
     "execution_count": 23,
     "metadata": {},
     "output_type": "execute_result"
    }
   ],
   "source": [
    "# getting the months of releasing\n",
    "months= pd.DatetimeIndex(df['Release_Date']).month\n",
    "months.value_counts().head(10)"
   ]
  },
  {
   "cell_type": "code",
   "execution_count": 24,
   "id": "66bb464b",
   "metadata": {
    "scrolled": true
   },
   "outputs": [
    {
     "data": {
      "image/png": "[encoded data removed]",
      "text/plain": [
       "<Figure size 432x288 with 1 Axes>"
      ]
     },
     "metadata": {
      "needs_background": "light"
     },
     "output_type": "display_data"
    }
   ],
   "source": [
    "# october is the month in which the most films were released\n",
    "sns.countplot(x=months, color=\"tab:blue\")\n",
    "plt.show()"
   ]
  },
  {
   "cell_type": "markdown",
   "id": "546344d7",
   "metadata": {},
   "source": [
    "###### there isn't a specific part of the year movies are released in"
   ]
  },
  {
   "cell_type": "markdown",
   "id": "abf979eb",
   "metadata": {},
   "source": [
    "###### the upcoming movies"
   ]
  },
  {
   "cell_type": "code",
   "execution_count": 25,
   "id": "bae43245",
   "metadata": {},
   "outputs": [
    {
     "data": {
      "text/html": [
       "<div>\n",
       "<style scoped>\n",
       "    .dataframe tbody tr th:only-of-type {\n",
       "        vertical-align: middle;\n",
       "    }\n",
       "\n",
       "    .dataframe tbody tr th {\n",
       "        vertical-align: top;\n",
       "    }\n",
       "\n",
       "    .dataframe thead th {\n",
       "        text-align: right;\n",
       "    }\n",
       "</style>\n",
       "<table border=\"1\" class=\"dataframe\">\n",
       "  <thead>\n",
       "    <tr style=\"text-align: right;\">\n",
       "      <th></th>\n",
       "      <th>Release_Date</th>\n",
       "      <th>Title</th>\n",
       "      <th>Overview</th>\n",
       "      <th>Popularity</th>\n",
       "      <th>Vote_Count</th>\n",
       "      <th>Vote_Average</th>\n",
       "      <th>Original_Language</th>\n",
       "      <th>Genre</th>\n",
       "    </tr>\n",
       "  </thead>\n",
       "  <tbody>\n",
       "    <tr>\n",
       "      <th>80</th>\n",
       "      <td>2022-03-30</td>\n",
       "      <td>Sonic the Hedgehog 2</td>\n",
       "      <td>After settling in Green Hills, Sonic is eager ...</td>\n",
       "      <td>317.159</td>\n",
       "      <td>0</td>\n",
       "      <td>0.0</td>\n",
       "      <td>en</td>\n",
       "      <td>Action, Science Fiction, Comedy, Family</td>\n",
       "    </tr>\n",
       "    <tr>\n",
       "      <th>210</th>\n",
       "      <td>2023-04-06</td>\n",
       "      <td>Fast &amp; Furious 10</td>\n",
       "      <td>The tenth installment in the Fast Saga.</td>\n",
       "      <td>181.216</td>\n",
       "      <td>0</td>\n",
       "      <td>0.0</td>\n",
       "      <td>en</td>\n",
       "      <td>Action, Crime</td>\n",
       "    </tr>\n",
       "    <tr>\n",
       "      <th>231</th>\n",
       "      <td>2022-04-22</td>\n",
       "      <td>Dragon Ball Super: Super Hero</td>\n",
       "      <td>The Red Ribbon Army, an evil organization that...</td>\n",
       "      <td>170.551</td>\n",
       "      <td>0</td>\n",
       "      <td>0.0</td>\n",
       "      <td>ja</td>\n",
       "      <td>Animation, Science Fiction, Action</td>\n",
       "    </tr>\n",
       "  </tbody>\n",
       "</table>\n",
       "</div>"
      ],
      "text/plain": [
       "    Release_Date                          Title  \\\n",
       "80    2022-03-30           Sonic the Hedgehog 2   \n",
       "210   2023-04-06              Fast & Furious 10   \n",
       "231   2022-04-22  Dragon Ball Super: Super Hero   \n",
       "\n",
       "                                              Overview  Popularity  \\\n",
       "80   After settling in Green Hills, Sonic is eager ...     317.159   \n",
       "210            The tenth installment in the Fast Saga.     181.216   \n",
       "231  The Red Ribbon Army, an evil organization that...     170.551   \n",
       "\n",
       "     Vote_Count  Vote_Average Original_Language  \\\n",
       "80            0           0.0                en   \n",
       "210           0           0.0                en   \n",
       "231           0           0.0                ja   \n",
       "\n",
       "                                       Genre  \n",
       "80   Action, Science Fiction, Comedy, Family  \n",
       "210                            Action, Crime  \n",
       "231       Animation, Science Fiction, Action  "
      ]
     },
     "execution_count": 25,
     "metadata": {},
     "output_type": "execute_result"
    }
   ],
   "source": [
    "# vote count= 0 \n",
    "zero_vote_count= df[df[\"Vote_Count\"]==0]\n",
    "zero_vote_count.head(3)"
   ]
  },
  {
   "cell_type": "code",
   "execution_count": 26,
   "id": "45253340",
   "metadata": {},
   "outputs": [
    {
     "data": {
      "text/html": [
       "<div>\n",
       "<style scoped>\n",
       "    .dataframe tbody tr th:only-of-type {\n",
       "        vertical-align: middle;\n",
       "    }\n",
       "\n",
       "    .dataframe tbody tr th {\n",
       "        vertical-align: top;\n",
       "    }\n",
       "\n",
       "    .dataframe thead th {\n",
       "        text-align: right;\n",
       "    }\n",
       "</style>\n",
       "<table border=\"1\" class=\"dataframe\">\n",
       "  <thead>\n",
       "    <tr style=\"text-align: right;\">\n",
       "      <th></th>\n",
       "      <th>Release_Date</th>\n",
       "      <th>Title</th>\n",
       "      <th>Overview</th>\n",
       "      <th>Popularity</th>\n",
       "      <th>Vote_Count</th>\n",
       "      <th>Vote_Average</th>\n",
       "      <th>Original_Language</th>\n",
       "      <th>Genre</th>\n",
       "    </tr>\n",
       "  </thead>\n",
       "  <tbody>\n",
       "    <tr>\n",
       "      <th>80</th>\n",
       "      <td>2022-03-30</td>\n",
       "      <td>Sonic the Hedgehog 2</td>\n",
       "      <td>After settling in Green Hills, Sonic is eager ...</td>\n",
       "      <td>317.159</td>\n",
       "      <td>0</td>\n",
       "      <td>0.0</td>\n",
       "      <td>en</td>\n",
       "      <td>Action, Science Fiction, Comedy, Family</td>\n",
       "    </tr>\n",
       "    <tr>\n",
       "      <th>210</th>\n",
       "      <td>2023-04-06</td>\n",
       "      <td>Fast &amp; Furious 10</td>\n",
       "      <td>The tenth installment in the Fast Saga.</td>\n",
       "      <td>181.216</td>\n",
       "      <td>0</td>\n",
       "      <td>0.0</td>\n",
       "      <td>en</td>\n",
       "      <td>Action, Crime</td>\n",
       "    </tr>\n",
       "    <tr>\n",
       "      <th>231</th>\n",
       "      <td>2022-04-22</td>\n",
       "      <td>Dragon Ball Super: Super Hero</td>\n",
       "      <td>The Red Ribbon Army, an evil organization that...</td>\n",
       "      <td>170.551</td>\n",
       "      <td>0</td>\n",
       "      <td>0.0</td>\n",
       "      <td>ja</td>\n",
       "      <td>Animation, Science Fiction, Action</td>\n",
       "    </tr>\n",
       "  </tbody>\n",
       "</table>\n",
       "</div>"
      ],
      "text/plain": [
       "    Release_Date                          Title  \\\n",
       "80    2022-03-30           Sonic the Hedgehog 2   \n",
       "210   2023-04-06              Fast & Furious 10   \n",
       "231   2022-04-22  Dragon Ball Super: Super Hero   \n",
       "\n",
       "                                              Overview  Popularity  \\\n",
       "80   After settling in Green Hills, Sonic is eager ...     317.159   \n",
       "210            The tenth installment in the Fast Saga.     181.216   \n",
       "231  The Red Ribbon Army, an evil organization that...     170.551   \n",
       "\n",
       "     Vote_Count  Vote_Average Original_Language  \\\n",
       "80            0           0.0                en   \n",
       "210           0           0.0                en   \n",
       "231           0           0.0                ja   \n",
       "\n",
       "                                       Genre  \n",
       "80   Action, Science Fiction, Comedy, Family  \n",
       "210                            Action, Crime  \n",
       "231       Animation, Science Fiction, Action  "
      ]
     },
     "execution_count": 26,
     "metadata": {},
     "output_type": "execute_result"
    }
   ],
   "source": [
    "# the vote average = 0\n",
    "zero_vote_average= df[df[\"Vote_Average\"]==0]\n",
    "zero_vote_average.head(3)"
   ]
  },
  {
   "cell_type": "code",
   "execution_count": 27,
   "id": "dadd44d4",
   "metadata": {},
   "outputs": [
    {
     "data": {
      "text/plain": [
       "True"
      ]
     },
     "execution_count": 27,
     "metadata": {},
     "output_type": "execute_result"
    }
   ],
   "source": [
    "# movies with 0 vote count and with 0 vote average are the same\n",
    "zero_vote_average.equals(zero_vote_count)"
   ]
  },
  {
   "cell_type": "markdown",
   "id": "609224a6",
   "metadata": {},
   "source": [
    "###### movies with 0 vote count and with 0 vote average are the upcomig movies"
   ]
  },
  {
   "cell_type": "code",
   "execution_count": 28,
   "id": "f7487498",
   "metadata": {},
   "outputs": [
    {
     "data": {
      "text/plain": [
       "80      317.159\n",
       "210     181.216\n",
       "231     170.551\n",
       "232     169.964\n",
       "314     146.548\n",
       "         ...   \n",
       "9067     14.082\n",
       "9134     14.016\n",
       "9145     14.008\n",
       "9177     13.978\n",
       "9713     13.446\n",
       "Name: Popularity, Length: 100, dtype: float64"
      ]
     },
     "execution_count": 28,
     "metadata": {},
     "output_type": "execute_result"
    }
   ],
   "source": [
    "# their popularity isn't equal to zero \n",
    "zero_vote_average[\"Popularity\"]"
   ]
  },
  {
   "cell_type": "markdown",
   "id": "9f4525a3",
   "metadata": {},
   "source": [
    "###### findng the lowly rated movies"
   ]
  },
  {
   "cell_type": "code",
   "execution_count": 29,
   "id": "0e1e5301",
   "metadata": {},
   "outputs": [
    {
     "data": {
      "text/html": [
       "<div>\n",
       "<style scoped>\n",
       "    .dataframe tbody tr th:only-of-type {\n",
       "        vertical-align: middle;\n",
       "    }\n",
       "\n",
       "    .dataframe tbody tr th {\n",
       "        vertical-align: top;\n",
       "    }\n",
       "\n",
       "    .dataframe thead th {\n",
       "        text-align: right;\n",
       "    }\n",
       "</style>\n",
       "<table border=\"1\" class=\"dataframe\">\n",
       "  <thead>\n",
       "    <tr style=\"text-align: right;\">\n",
       "      <th></th>\n",
       "      <th>Release_Date</th>\n",
       "      <th>Title</th>\n",
       "      <th>Overview</th>\n",
       "      <th>Popularity</th>\n",
       "      <th>Vote_Count</th>\n",
       "      <th>Vote_Average</th>\n",
       "      <th>Original_Language</th>\n",
       "      <th>Genre</th>\n",
       "    </tr>\n",
       "  </thead>\n",
       "  <tbody>\n",
       "    <tr>\n",
       "      <th>0</th>\n",
       "      <td>2021-12-15</td>\n",
       "      <td>Spider-Man: No Way Home</td>\n",
       "      <td>Peter Parker is unmasked and no longer able to...</td>\n",
       "      <td>5083.954</td>\n",
       "      <td>8940</td>\n",
       "      <td>8.3</td>\n",
       "      <td>en</td>\n",
       "      <td>Action, Adventure, Science Fiction</td>\n",
       "    </tr>\n",
       "    <tr>\n",
       "      <th>1</th>\n",
       "      <td>2022-03-01</td>\n",
       "      <td>The Batman</td>\n",
       "      <td>In his second year of fighting crime, Batman u...</td>\n",
       "      <td>3827.658</td>\n",
       "      <td>1151</td>\n",
       "      <td>8.1</td>\n",
       "      <td>en</td>\n",
       "      <td>Crime, Mystery, Thriller</td>\n",
       "    </tr>\n",
       "    <tr>\n",
       "      <th>2</th>\n",
       "      <td>2022-02-25</td>\n",
       "      <td>No Exit</td>\n",
       "      <td>Stranded at a rest stop in the mountains durin...</td>\n",
       "      <td>2618.087</td>\n",
       "      <td>122</td>\n",
       "      <td>6.3</td>\n",
       "      <td>en</td>\n",
       "      <td>Thriller</td>\n",
       "    </tr>\n",
       "    <tr>\n",
       "      <th>3</th>\n",
       "      <td>2021-11-24</td>\n",
       "      <td>Encanto</td>\n",
       "      <td>The tale of an extraordinary family, the Madri...</td>\n",
       "      <td>2402.201</td>\n",
       "      <td>5076</td>\n",
       "      <td>7.7</td>\n",
       "      <td>en</td>\n",
       "      <td>Animation, Comedy, Family, Fantasy</td>\n",
       "    </tr>\n",
       "    <tr>\n",
       "      <th>4</th>\n",
       "      <td>2021-12-22</td>\n",
       "      <td>The King's Man</td>\n",
       "      <td>As a collection of history's worst tyrants and...</td>\n",
       "      <td>1895.511</td>\n",
       "      <td>1793</td>\n",
       "      <td>7.0</td>\n",
       "      <td>en</td>\n",
       "      <td>Action, Adventure, Thriller, War</td>\n",
       "    </tr>\n",
       "  </tbody>\n",
       "</table>\n",
       "</div>"
      ],
      "text/plain": [
       "  Release_Date                    Title  \\\n",
       "0   2021-12-15  Spider-Man: No Way Home   \n",
       "1   2022-03-01               The Batman   \n",
       "2   2022-02-25                  No Exit   \n",
       "3   2021-11-24                  Encanto   \n",
       "4   2021-12-22           The King's Man   \n",
       "\n",
       "                                            Overview  Popularity  Vote_Count  \\\n",
       "0  Peter Parker is unmasked and no longer able to...    5083.954        8940   \n",
       "1  In his second year of fighting crime, Batman u...    3827.658        1151   \n",
       "2  Stranded at a rest stop in the mountains durin...    2618.087         122   \n",
       "3  The tale of an extraordinary family, the Madri...    2402.201        5076   \n",
       "4  As a collection of history's worst tyrants and...    1895.511        1793   \n",
       "\n",
       "   Vote_Average Original_Language                               Genre  \n",
       "0           8.3                en  Action, Adventure, Science Fiction  \n",
       "1           8.1                en            Crime, Mystery, Thriller  \n",
       "2           6.3                en                            Thriller  \n",
       "3           7.7                en  Animation, Comedy, Family, Fantasy  \n",
       "4           7.0                en    Action, Adventure, Thriller, War  "
      ]
     },
     "execution_count": 29,
     "metadata": {},
     "output_type": "execute_result"
    }
   ],
   "source": [
    "# dropping the upcomming movies\n",
    "viewed= df.drop(zero_vote_average.index)\n",
    "viewed.head()"
   ]
  },
  {
   "cell_type": "code",
   "execution_count": 30,
   "id": "362c7555",
   "metadata": {},
   "outputs": [
    {
     "data": {
      "text/plain": [
       "(9727, 8)"
      ]
     },
     "execution_count": 30,
     "metadata": {},
     "output_type": "execute_result"
    }
   ],
   "source": [
    "# lost 100 movie as excepected\n",
    "viewed.shape"
   ]
  },
  {
   "cell_type": "code",
   "execution_count": 31,
   "id": "9a9b876f",
   "metadata": {},
   "outputs": [],
   "source": [
    "low_rates= viewed[\"Vote_Average\"]<=4"
   ]
  },
  {
   "cell_type": "code",
   "execution_count": 32,
   "id": "ac64f6f2",
   "metadata": {},
   "outputs": [
    {
     "data": {
      "text/html": [
       "<div>\n",
       "<style scoped>\n",
       "    .dataframe tbody tr th:only-of-type {\n",
       "        vertical-align: middle;\n",
       "    }\n",
       "\n",
       "    .dataframe tbody tr th {\n",
       "        vertical-align: top;\n",
       "    }\n",
       "\n",
       "    .dataframe thead th {\n",
       "        text-align: right;\n",
       "    }\n",
       "</style>\n",
       "<table border=\"1\" class=\"dataframe\">\n",
       "  <thead>\n",
       "    <tr style=\"text-align: right;\">\n",
       "      <th></th>\n",
       "      <th>Release_Date</th>\n",
       "      <th>Title</th>\n",
       "      <th>Overview</th>\n",
       "      <th>Popularity</th>\n",
       "      <th>Vote_Count</th>\n",
       "      <th>Vote_Average</th>\n",
       "      <th>Original_Language</th>\n",
       "      <th>Genre</th>\n",
       "    </tr>\n",
       "  </thead>\n",
       "  <tbody>\n",
       "    <tr>\n",
       "      <th>77</th>\n",
       "      <td>2022-02-04</td>\n",
       "      <td>Sex, Shame and Tears 2</td>\n",
       "      <td>Twenty years have passed since those two apart...</td>\n",
       "      <td>325.624</td>\n",
       "      <td>5</td>\n",
       "      <td>2.2</td>\n",
       "      <td>es</td>\n",
       "      <td>Comedy, Drama</td>\n",
       "    </tr>\n",
       "    <tr>\n",
       "      <th>229</th>\n",
       "      <td>2021-12-25</td>\n",
       "      <td>El Paseo 6</td>\n",
       "      <td>The last year High School excursion is the wal...</td>\n",
       "      <td>170.869</td>\n",
       "      <td>5</td>\n",
       "      <td>3.5</td>\n",
       "      <td>es</td>\n",
       "      <td>Comedy</td>\n",
       "    </tr>\n",
       "    <tr>\n",
       "      <th>243</th>\n",
       "      <td>1986-01-18</td>\n",
       "      <td>Beautiful Sisters: Flesh Slave</td>\n",
       "      <td>A maniac breaks into the apartment of two sist...</td>\n",
       "      <td>167.255</td>\n",
       "      <td>4</td>\n",
       "      <td>4.0</td>\n",
       "      <td>ja</td>\n",
       "      <td>Crime, Horror</td>\n",
       "    </tr>\n",
       "    <tr>\n",
       "      <th>308</th>\n",
       "      <td>2021-10-27</td>\n",
       "      <td>Nobody Sleeps in the Woods Tonight 2</td>\n",
       "      <td>When something horrible happens to the only su...</td>\n",
       "      <td>148.013</td>\n",
       "      <td>148</td>\n",
       "      <td>4.0</td>\n",
       "      <td>pl</td>\n",
       "      <td>Horror, Thriller, Comedy</td>\n",
       "    </tr>\n",
       "    <tr>\n",
       "      <th>329</th>\n",
       "      <td>2021-07-06</td>\n",
       "      <td>Why Women Cheat</td>\n",
       "      <td>The male lead is the king of a small island na...</td>\n",
       "      <td>141.695</td>\n",
       "      <td>3</td>\n",
       "      <td>3.3</td>\n",
       "      <td>en</td>\n",
       "      <td>Romance</td>\n",
       "    </tr>\n",
       "  </tbody>\n",
       "</table>\n",
       "</div>"
      ],
      "text/plain": [
       "    Release_Date                                 Title  \\\n",
       "77    2022-02-04                Sex, Shame and Tears 2   \n",
       "229   2021-12-25                            El Paseo 6   \n",
       "243   1986-01-18        Beautiful Sisters: Flesh Slave   \n",
       "308   2021-10-27  Nobody Sleeps in the Woods Tonight 2   \n",
       "329   2021-07-06                       Why Women Cheat   \n",
       "\n",
       "                                              Overview  Popularity  \\\n",
       "77   Twenty years have passed since those two apart...     325.624   \n",
       "229  The last year High School excursion is the wal...     170.869   \n",
       "243  A maniac breaks into the apartment of two sist...     167.255   \n",
       "308  When something horrible happens to the only su...     148.013   \n",
       "329  The male lead is the king of a small island na...     141.695   \n",
       "\n",
       "     Vote_Count  Vote_Average Original_Language                     Genre  \n",
       "77            5           2.2                es             Comedy, Drama  \n",
       "229           5           3.5                es                    Comedy  \n",
       "243           4           4.0                ja             Crime, Horror  \n",
       "308         148           4.0                pl  Horror, Thriller, Comedy  \n",
       "329           3           3.3                en                   Romance  "
      ]
     },
     "execution_count": 32,
     "metadata": {},
     "output_type": "execute_result"
    }
   ],
   "source": [
    "lowly_rated= viewed[low_rates]\n",
    "lowly_rated.head()"
   ]
  },
  {
   "cell_type": "code",
   "execution_count": 33,
   "id": "5eebc284",
   "metadata": {},
   "outputs": [
    {
     "data": {
      "text/plain": [
       "Horror             28.0\n",
       "Comedy             27.0\n",
       "Action             27.0\n",
       "Thriller           23.0\n",
       "Drama              21.0\n",
       "Science Fiction    21.0\n",
       "Adventure          15.0\n",
       "Fantasy            12.0\n",
       "Romance            12.0\n",
       "Animation           8.0\n",
       "Crime               5.0\n",
       "Documentary         5.0\n",
       "Family              5.0\n",
       "TV Movie            4.0\n",
       "Music               3.0\n",
       "Mystery             1.0\n",
       "War                 1.0\n",
       "Western             1.0\n",
       "dtype: float64"
      ]
     },
     "execution_count": 33,
     "metadata": {},
     "output_type": "execute_result"
    }
   ],
   "source": [
    "# types of lowly rated movies\n",
    "viewed_splited= viewed[\"Genre\"].str.split(\", \", n = -1, expand = True)\n",
    "viewed_splited[low_rates].apply(pd.Series.value_counts).sum(axis=1, skipna=True).sort_values(ascending=False)"
   ]
  },
  {
   "cell_type": "markdown",
   "id": "7b4d849a",
   "metadata": {},
   "source": [
    "###### Horror is the least favourite type of movies"
   ]
  },
  {
   "cell_type": "markdown",
   "id": "2272902f",
   "metadata": {},
   "source": [
    "###### finding the least viewed movie"
   ]
  },
  {
   "cell_type": "code",
   "execution_count": 34,
   "id": "9a8b71cd",
   "metadata": {},
   "outputs": [
    {
     "data": {
      "text/plain": [
       "9825"
      ]
     },
     "execution_count": 34,
     "metadata": {},
     "output_type": "execute_result"
    }
   ],
   "source": [
    "# getting its index\n",
    "movie_index= viewed['Popularity'].idxmin()\n",
    "movie_index"
   ]
  },
  {
   "cell_type": "code",
   "execution_count": 35,
   "id": "cef260c3",
   "metadata": {},
   "outputs": [
    {
     "data": {
      "text/html": [
       "<div>\n",
       "<style scoped>\n",
       "    .dataframe tbody tr th:only-of-type {\n",
       "        vertical-align: middle;\n",
       "    }\n",
       "\n",
       "    .dataframe tbody tr th {\n",
       "        vertical-align: top;\n",
       "    }\n",
       "\n",
       "    .dataframe thead th {\n",
       "        text-align: right;\n",
       "    }\n",
       "</style>\n",
       "<table border=\"1\" class=\"dataframe\">\n",
       "  <thead>\n",
       "    <tr style=\"text-align: right;\">\n",
       "      <th></th>\n",
       "      <th>Release_Date</th>\n",
       "      <th>Title</th>\n",
       "      <th>Overview</th>\n",
       "      <th>Popularity</th>\n",
       "      <th>Vote_Count</th>\n",
       "      <th>Vote_Average</th>\n",
       "      <th>Original_Language</th>\n",
       "      <th>Genre</th>\n",
       "    </tr>\n",
       "  </thead>\n",
       "  <tbody>\n",
       "    <tr>\n",
       "      <th>9825</th>\n",
       "      <td>2021-03-31</td>\n",
       "      <td>The United States vs. Billie Holiday</td>\n",
       "      <td>Billie Holiday spent much of her career being ...</td>\n",
       "      <td>13.354</td>\n",
       "      <td>152</td>\n",
       "      <td>6.7</td>\n",
       "      <td>en</td>\n",
       "      <td>Music, Drama, History</td>\n",
       "    </tr>\n",
       "  </tbody>\n",
       "</table>\n",
       "</div>"
      ],
      "text/plain": [
       "     Release_Date                                 Title  \\\n",
       "9825   2021-03-31  The United States vs. Billie Holiday   \n",
       "\n",
       "                                               Overview  Popularity  \\\n",
       "9825  Billie Holiday spent much of her career being ...      13.354   \n",
       "\n",
       "      Vote_Count  Vote_Average Original_Language                  Genre  \n",
       "9825         152           6.7                en  Music, Drama, History  "
      ]
     },
     "execution_count": 35,
     "metadata": {},
     "output_type": "execute_result"
    }
   ],
   "source": [
    "viewed[9725:9726]"
   ]
  },
  {
   "cell_type": "markdown",
   "id": "ae78597c",
   "metadata": {},
   "source": [
    "###### the least viewed movie is \"The United States vs. Billie Holiday\" which is a Music, Drama and History movie"
   ]
  }
 ],
 "metadata": {
  "kernelspec": {
   "display_name": "Python 3 (ipykernel)",
   "language": "python",
   "name": "python3"
  },
  "language_info": {
   "codemirror_mode": {
    "name": "ipython",
    "version": 3
   },
   "file_extension": ".py",
   "mimetype": "text/x-python",
   "name": "python",
   "nbconvert_exporter": "python",
   "pygments_lexer": "ipython3",
   "version": "3.9.7"
  }
 },
 "nbformat": 4,
 "nbformat_minor": 5
}
